{
 "cells": [
  {
   "cell_type": "code",
   "execution_count": 20,
   "id": "d962bb75",
   "metadata": {},
   "outputs": [
    {
     "data": {
      "text/html": [
       "<div>\n",
       "<style scoped>\n",
       "    .dataframe tbody tr th:only-of-type {\n",
       "        vertical-align: middle;\n",
       "    }\n",
       "\n",
       "    .dataframe tbody tr th {\n",
       "        vertical-align: top;\n",
       "    }\n",
       "\n",
       "    .dataframe thead th {\n",
       "        text-align: right;\n",
       "    }\n",
       "</style>\n",
       "<table border=\"1\" class=\"dataframe\">\n",
       "  <thead>\n",
       "    <tr style=\"text-align: right;\">\n",
       "      <th></th>\n",
       "      <th>Year</th>\n",
       "      <th>OGC</th>\n",
       "      <th>OG</th>\n",
       "      <th>DC</th>\n",
       "      <th>Dept</th>\n",
       "      <th>UC</th>\n",
       "      <th>Union</th>\n",
       "      <th>JF</th>\n",
       "      <th>Job</th>\n",
       "      <th>EI</th>\n",
       "      <th>Salaries</th>\n",
       "      <th>Overtime</th>\n",
       "      <th>H/D</th>\n",
       "      <th>YT</th>\n",
       "      <th>Total_Compensation</th>\n",
       "    </tr>\n",
       "  </thead>\n",
       "  <tbody>\n",
       "    <tr>\n",
       "      <th>0</th>\n",
       "      <td>2015</td>\n",
       "      <td>4</td>\n",
       "      <td>Community Health</td>\n",
       "      <td>DPH</td>\n",
       "      <td>Public Health</td>\n",
       "      <td>250</td>\n",
       "      <td>SEIU - Health Workers, Local 1021</td>\n",
       "      <td>Med Therapy &amp; Auxiliary</td>\n",
       "      <td>Morgue Attendant</td>\n",
       "      <td>6725</td>\n",
       "      <td>12196</td>\n",
       "      <td>0</td>\n",
       "      <td>0.00</td>\n",
       "      <td>Calendar</td>\n",
       "      <td>16158</td>\n",
       "    </tr>\n",
       "    <tr>\n",
       "      <th>1</th>\n",
       "      <td>2013</td>\n",
       "      <td>4</td>\n",
       "      <td>Community Health</td>\n",
       "      <td>DPH</td>\n",
       "      <td>Public Health</td>\n",
       "      <td>39</td>\n",
       "      <td>Stationary Engineers, Local 39</td>\n",
       "      <td>Journeyman Trade</td>\n",
       "      <td>Stationary Engineer</td>\n",
       "      <td>25058</td>\n",
       "      <td>74639</td>\n",
       "      <td>2820</td>\n",
       "      <td>12703.31</td>\n",
       "      <td>Fiscal</td>\n",
       "      <td>115784</td>\n",
       "    </tr>\n",
       "    <tr>\n",
       "      <th>2</th>\n",
       "      <td>2015</td>\n",
       "      <td>6</td>\n",
       "      <td>General Administration &amp; Finance</td>\n",
       "      <td>ASR</td>\n",
       "      <td>Assessor/Recorder</td>\n",
       "      <td>21</td>\n",
       "      <td>Prof &amp; Tech Engineers - Miscellaneous, Local 21</td>\n",
       "      <td>Appraisal &amp; Taxation</td>\n",
       "      <td>Senior Real Property Appraiser</td>\n",
       "      <td>46108</td>\n",
       "      <td>100554</td>\n",
       "      <td>0</td>\n",
       "      <td>12424.50</td>\n",
       "      <td>Calendar</td>\n",
       "      <td>144708</td>\n",
       "    </tr>\n",
       "    <tr>\n",
       "      <th>3</th>\n",
       "      <td>2016</td>\n",
       "      <td>1</td>\n",
       "      <td>Public Protection</td>\n",
       "      <td>POL</td>\n",
       "      <td>Police</td>\n",
       "      <td>911</td>\n",
       "      <td>Police Officers' Association</td>\n",
       "      <td>Police Services</td>\n",
       "      <td>Sergeant 3</td>\n",
       "      <td>33369</td>\n",
       "      <td>140164</td>\n",
       "      <td>52754</td>\n",
       "      <td>13043.87</td>\n",
       "      <td>Fiscal</td>\n",
       "      <td>242323</td>\n",
       "    </tr>\n",
       "    <tr>\n",
       "      <th>4</th>\n",
       "      <td>2013</td>\n",
       "      <td>2</td>\n",
       "      <td>Public Works, Transportation &amp; Commerce</td>\n",
       "      <td>HHP</td>\n",
       "      <td>PUC Hetch Hetchy</td>\n",
       "      <td>21</td>\n",
       "      <td>Prof &amp; Tech Engineers - Miscellaneous, Local 21</td>\n",
       "      <td>Information Systems</td>\n",
       "      <td>IS Engineer-Journey</td>\n",
       "      <td>28684</td>\n",
       "      <td>58813</td>\n",
       "      <td>0</td>\n",
       "      <td>7655.28</td>\n",
       "      <td>Calendar</td>\n",
       "      <td>82106</td>\n",
       "    </tr>\n",
       "    <tr>\n",
       "      <th>...</th>\n",
       "      <td>...</td>\n",
       "      <td>...</td>\n",
       "      <td>...</td>\n",
       "      <td>...</td>\n",
       "      <td>...</td>\n",
       "      <td>...</td>\n",
       "      <td>...</td>\n",
       "      <td>...</td>\n",
       "      <td>...</td>\n",
       "      <td>...</td>\n",
       "      <td>...</td>\n",
       "      <td>...</td>\n",
       "      <td>...</td>\n",
       "      <td>...</td>\n",
       "      <td>...</td>\n",
       "    </tr>\n",
       "    <tr>\n",
       "      <th>287831</th>\n",
       "      <td>2016</td>\n",
       "      <td>3</td>\n",
       "      <td>Human Welfare &amp; Neighborhood Development</td>\n",
       "      <td>DSS</td>\n",
       "      <td>Human Services</td>\n",
       "      <td>535</td>\n",
       "      <td>SEIU - Human Services, Local 1021</td>\n",
       "      <td>Human Services</td>\n",
       "      <td>Senior Eligibility Worker</td>\n",
       "      <td>9610</td>\n",
       "      <td>78980</td>\n",
       "      <td>30115</td>\n",
       "      <td>13068.80</td>\n",
       "      <td>Fiscal</td>\n",
       "      <td>147079</td>\n",
       "    </tr>\n",
       "    <tr>\n",
       "      <th>287832</th>\n",
       "      <td>2015</td>\n",
       "      <td>5</td>\n",
       "      <td>Culture &amp; Recreation</td>\n",
       "      <td>LIB</td>\n",
       "      <td>Public Library</td>\n",
       "      <td>790</td>\n",
       "      <td>SEIU - Miscellaneous, Local 1021</td>\n",
       "      <td>Library</td>\n",
       "      <td>Librarian 1</td>\n",
       "      <td>790</td>\n",
       "      <td>30704</td>\n",
       "      <td>0</td>\n",
       "      <td>5465.57</td>\n",
       "      <td>Calendar</td>\n",
       "      <td>40174</td>\n",
       "    </tr>\n",
       "    <tr>\n",
       "      <th>287833</th>\n",
       "      <td>2014</td>\n",
       "      <td>2</td>\n",
       "      <td>Public Works, Transportation &amp; Commerce</td>\n",
       "      <td>HHP</td>\n",
       "      <td>PUC Hetch Hetchy</td>\n",
       "      <td>6</td>\n",
       "      <td>Electrical Workers, Local 6</td>\n",
       "      <td>Journeyman Trade</td>\n",
       "      <td>Electronic Maintenance Tech</td>\n",
       "      <td>38352</td>\n",
       "      <td>104451</td>\n",
       "      <td>0</td>\n",
       "      <td>13054.94</td>\n",
       "      <td>Calendar</td>\n",
       "      <td>164669</td>\n",
       "    </tr>\n",
       "    <tr>\n",
       "      <th>287834</th>\n",
       "      <td>2013</td>\n",
       "      <td>1</td>\n",
       "      <td>Public Protection</td>\n",
       "      <td>JUV</td>\n",
       "      <td>Juvenile Probation</td>\n",
       "      <td>250</td>\n",
       "      <td>SEIU - Health Workers, Local 1021</td>\n",
       "      <td>Housekeeping &amp; Laundry</td>\n",
       "      <td>Porter</td>\n",
       "      <td>29266</td>\n",
       "      <td>14425</td>\n",
       "      <td>0</td>\n",
       "      <td>4051.90</td>\n",
       "      <td>Calendar</td>\n",
       "      <td>19594</td>\n",
       "    </tr>\n",
       "    <tr>\n",
       "      <th>287835</th>\n",
       "      <td>2015</td>\n",
       "      <td>4</td>\n",
       "      <td>Community Health</td>\n",
       "      <td>DPH</td>\n",
       "      <td>Public Health</td>\n",
       "      <td>791</td>\n",
       "      <td>SEIU - Staff and Per Diem Nurses, Local 1021</td>\n",
       "      <td>Nursing</td>\n",
       "      <td>Special Nurse</td>\n",
       "      <td>13906</td>\n",
       "      <td>105561</td>\n",
       "      <td>8945</td>\n",
       "      <td>7993.89</td>\n",
       "      <td>Fiscal</td>\n",
       "      <td>154197</td>\n",
       "    </tr>\n",
       "  </tbody>\n",
       "</table>\n",
       "<p>287836 rows × 15 columns</p>\n",
       "</div>"
      ],
      "text/plain": [
       "        Year  OGC                                        OG   DC  \\\n",
       "0       2015    4                          Community Health  DPH   \n",
       "1       2013    4                          Community Health  DPH   \n",
       "2       2015    6          General Administration & Finance  ASR   \n",
       "3       2016    1                         Public Protection  POL   \n",
       "4       2013    2   Public Works, Transportation & Commerce  HHP   \n",
       "...      ...  ...                                       ...  ...   \n",
       "287831  2016    3  Human Welfare & Neighborhood Development  DSS   \n",
       "287832  2015    5                      Culture & Recreation  LIB   \n",
       "287833  2014    2   Public Works, Transportation & Commerce  HHP   \n",
       "287834  2013    1                         Public Protection  JUV   \n",
       "287835  2015    4                          Community Health  DPH   \n",
       "\n",
       "                      Dept   UC  \\\n",
       "0            Public Health  250   \n",
       "1            Public Health   39   \n",
       "2        Assessor/Recorder   21   \n",
       "3                   Police  911   \n",
       "4         PUC Hetch Hetchy   21   \n",
       "...                    ...  ...   \n",
       "287831      Human Services  535   \n",
       "287832      Public Library  790   \n",
       "287833    PUC Hetch Hetchy    6   \n",
       "287834  Juvenile Probation  250   \n",
       "287835       Public Health  791   \n",
       "\n",
       "                                                  Union  \\\n",
       "0                     SEIU - Health Workers, Local 1021   \n",
       "1                        Stationary Engineers, Local 39   \n",
       "2       Prof & Tech Engineers - Miscellaneous, Local 21   \n",
       "3                          Police Officers' Association   \n",
       "4       Prof & Tech Engineers - Miscellaneous, Local 21   \n",
       "...                                                 ...   \n",
       "287831                SEIU - Human Services, Local 1021   \n",
       "287832                 SEIU - Miscellaneous, Local 1021   \n",
       "287833                      Electrical Workers, Local 6   \n",
       "287834                SEIU - Health Workers, Local 1021   \n",
       "287835     SEIU - Staff and Per Diem Nurses, Local 1021   \n",
       "\n",
       "                             JF                             Job     EI  \\\n",
       "0       Med Therapy & Auxiliary                Morgue Attendant   6725   \n",
       "1              Journeyman Trade             Stationary Engineer  25058   \n",
       "2          Appraisal & Taxation  Senior Real Property Appraiser  46108   \n",
       "3               Police Services                      Sergeant 3  33369   \n",
       "4           Information Systems             IS Engineer-Journey  28684   \n",
       "...                         ...                             ...    ...   \n",
       "287831           Human Services       Senior Eligibility Worker   9610   \n",
       "287832                  Library                     Librarian 1    790   \n",
       "287833         Journeyman Trade     Electronic Maintenance Tech  38352   \n",
       "287834   Housekeeping & Laundry                          Porter  29266   \n",
       "287835                  Nursing                   Special Nurse  13906   \n",
       "\n",
       "        Salaries  Overtime       H/D        YT  Total_Compensation  \n",
       "0          12196         0      0.00  Calendar               16158  \n",
       "1          74639      2820  12703.31    Fiscal              115784  \n",
       "2         100554         0  12424.50  Calendar              144708  \n",
       "3         140164     52754  13043.87    Fiscal              242323  \n",
       "4          58813         0   7655.28  Calendar               82106  \n",
       "...          ...       ...       ...       ...                 ...  \n",
       "287831     78980     30115  13068.80    Fiscal              147079  \n",
       "287832     30704         0   5465.57  Calendar               40174  \n",
       "287833    104451         0  13054.94  Calendar              164669  \n",
       "287834     14425         0   4051.90  Calendar               19594  \n",
       "287835    105561      8945   7993.89    Fiscal              154197  \n",
       "\n",
       "[287836 rows x 15 columns]"
      ]
     },
     "execution_count": 20,
     "metadata": {},
     "output_type": "execute_result"
    }
   ],
   "source": [
    "import pandas as pd\n",
    "df = pd.read_csv(\"train_set.csv\")\n",
    "df"
   ]
  },
  {
   "cell_type": "code",
   "execution_count": 21,
   "id": "90081b08",
   "metadata": {},
   "outputs": [
    {
     "name": "stdout",
     "output_type": "stream",
     "text": [
      "<class 'pandas.core.frame.DataFrame'>\n",
      "RangeIndex: 287836 entries, 0 to 287835\n",
      "Data columns (total 15 columns):\n",
      " #   Column              Non-Null Count   Dtype  \n",
      "---  ------              --------------   -----  \n",
      " 0   Year                287836 non-null  int64  \n",
      " 1   OGC                 287836 non-null  int64  \n",
      " 2   OG                  287836 non-null  object \n",
      " 3   DC                  287836 non-null  object \n",
      " 4   Dept                287836 non-null  object \n",
      " 5   UC                  287836 non-null  int64  \n",
      " 6   Union               287800 non-null  object \n",
      " 7   JF                  287798 non-null  object \n",
      " 8   Job                 287836 non-null  object \n",
      " 9   EI                  287836 non-null  int64  \n",
      " 10  Salaries            287836 non-null  int64  \n",
      " 11  Overtime            287836 non-null  int64  \n",
      " 12  H/D                 287836 non-null  float64\n",
      " 13  YT                  287836 non-null  object \n",
      " 14  Total_Compensation  287836 non-null  int64  \n",
      "dtypes: float64(1), int64(7), object(7)\n",
      "memory usage: 32.9+ MB\n"
     ]
    }
   ],
   "source": [
    "df.info()"
   ]
  },
  {
   "cell_type": "code",
   "execution_count": 22,
   "id": "e6c71be4",
   "metadata": {},
   "outputs": [
    {
     "name": "stdout",
     "output_type": "stream",
     "text": [
      "        Year  OGC  OG  DC  Dept   UC  Union  JF  Job     EI  Salaries  \\\n",
      "0       2015    4   0   0     0  250      0   0    0   6725     12196   \n",
      "1       2013    4   0   0     0   39      1   1    1  25058     74639   \n",
      "2       2015    6   1   1     1   21      2   2    2  46108    100554   \n",
      "3       2016    1   2   2     2  911      3   3    3  33369    140164   \n",
      "4       2013    2   3   3     3   21      2   4    4  28684     58813   \n",
      "...      ...  ...  ..  ..   ...  ...    ...  ..  ...    ...       ...   \n",
      "287831  2016    3   4   5     5  535      5  21   91   9610     78980   \n",
      "287832  2015    5   5  12    12  790      4  16   94    790     30704   \n",
      "287833  2014    2   3   3     3    6     18   1  393  38352    104451   \n",
      "287834  2013    1   2  36    36  250      0  13   67  29266     14425   \n",
      "287835  2015    4   0   0     0  791     14   9   61  13906    105561   \n",
      "\n",
      "        Overtime       H/D  YT  Total_Compensation  \n",
      "0              0      0.00   0               16158  \n",
      "1           2820  12703.31   1              115784  \n",
      "2              0  12424.50   0              144708  \n",
      "3          52754  13043.87   1              242323  \n",
      "4              0   7655.28   0               82106  \n",
      "...          ...       ...  ..                 ...  \n",
      "287831     30115  13068.80   1              147079  \n",
      "287832         0   5465.57   0               40174  \n",
      "287833         0  13054.94   0              164669  \n",
      "287834         0   4051.90   0               19594  \n",
      "287835      8945   7993.89   1              154197  \n",
      "\n",
      "[287836 rows x 15 columns]\n"
     ]
    }
   ],
   "source": [
    "column_names = ['OG', 'DC','Dept','Union','JF','Job','YT']  # Replace with the actual column names in your dataframe\n",
    "\n",
    "for column in column_names:\n",
    "    unique_values = df[column].unique()\n",
    "    mapping = {value: index for index, value in enumerate(unique_values)}\n",
    "    df[column] = df[column].replace(mapping)\n",
    "\n",
    "print(df)\n"
   ]
  },
  {
   "cell_type": "code",
   "execution_count": 23,
   "id": "be28e17d",
   "metadata": {},
   "outputs": [
    {
     "data": {
      "text/html": [
       "<div>\n",
       "<style scoped>\n",
       "    .dataframe tbody tr th:only-of-type {\n",
       "        vertical-align: middle;\n",
       "    }\n",
       "\n",
       "    .dataframe tbody tr th {\n",
       "        vertical-align: top;\n",
       "    }\n",
       "\n",
       "    .dataframe thead th {\n",
       "        text-align: right;\n",
       "    }\n",
       "</style>\n",
       "<table border=\"1\" class=\"dataframe\">\n",
       "  <thead>\n",
       "    <tr style=\"text-align: right;\">\n",
       "      <th></th>\n",
       "      <th>Year</th>\n",
       "      <th>OGC</th>\n",
       "      <th>OG</th>\n",
       "      <th>DC</th>\n",
       "      <th>Dept</th>\n",
       "      <th>UC</th>\n",
       "      <th>Union</th>\n",
       "      <th>JF</th>\n",
       "      <th>Job</th>\n",
       "      <th>EI</th>\n",
       "      <th>Salaries</th>\n",
       "      <th>Overtime</th>\n",
       "      <th>H/D</th>\n",
       "      <th>YT</th>\n",
       "      <th>Total_Compensation</th>\n",
       "    </tr>\n",
       "  </thead>\n",
       "  <tbody>\n",
       "    <tr>\n",
       "      <th>count</th>\n",
       "      <td>287836.000000</td>\n",
       "      <td>287836.000000</td>\n",
       "      <td>287836.000000</td>\n",
       "      <td>287836.000000</td>\n",
       "      <td>287836.000000</td>\n",
       "      <td>287836.000000</td>\n",
       "      <td>287836.000000</td>\n",
       "      <td>287836.000000</td>\n",
       "      <td>287836.000000</td>\n",
       "      <td>287836.000000</td>\n",
       "      <td>287836.000000</td>\n",
       "      <td>287836.000000</td>\n",
       "      <td>287836.000000</td>\n",
       "      <td>287836.000000</td>\n",
       "      <td>287836.000000</td>\n",
       "    </tr>\n",
       "    <tr>\n",
       "      <th>mean</th>\n",
       "      <td>2014.250104</td>\n",
       "      <td>2.976007</td>\n",
       "      <td>2.251824</td>\n",
       "      <td>9.134597</td>\n",
       "      <td>9.132767</td>\n",
       "      <td>490.540186</td>\n",
       "      <td>8.745817</td>\n",
       "      <td>15.629956</td>\n",
       "      <td>170.518458</td>\n",
       "      <td>26913.060020</td>\n",
       "      <td>63262.713139</td>\n",
       "      <td>4401.037115</td>\n",
       "      <td>8932.876472</td>\n",
       "      <td>0.500063</td>\n",
       "      <td>97990.329882</td>\n",
       "    </tr>\n",
       "    <tr>\n",
       "      <th>std</th>\n",
       "      <td>1.016282</td>\n",
       "      <td>1.575586</td>\n",
       "      <td>1.555445</td>\n",
       "      <td>9.662995</td>\n",
       "      <td>9.661642</td>\n",
       "      <td>333.238723</td>\n",
       "      <td>9.234740</td>\n",
       "      <td>11.109899</td>\n",
       "      <td>187.579398</td>\n",
       "      <td>15539.719696</td>\n",
       "      <td>44638.657748</td>\n",
       "      <td>11079.137749</td>\n",
       "      <td>4894.072024</td>\n",
       "      <td>0.500001</td>\n",
       "      <td>67750.020573</td>\n",
       "    </tr>\n",
       "    <tr>\n",
       "      <th>min</th>\n",
       "      <td>2013.000000</td>\n",
       "      <td>1.000000</td>\n",
       "      <td>0.000000</td>\n",
       "      <td>0.000000</td>\n",
       "      <td>0.000000</td>\n",
       "      <td>1.000000</td>\n",
       "      <td>0.000000</td>\n",
       "      <td>0.000000</td>\n",
       "      <td>0.000000</td>\n",
       "      <td>1.000000</td>\n",
       "      <td>-68771.000000</td>\n",
       "      <td>-12308.000000</td>\n",
       "      <td>-2940.470000</td>\n",
       "      <td>0.000000</td>\n",
       "      <td>-74082.000000</td>\n",
       "    </tr>\n",
       "    <tr>\n",
       "      <th>25%</th>\n",
       "      <td>2013.000000</td>\n",
       "      <td>2.000000</td>\n",
       "      <td>1.000000</td>\n",
       "      <td>2.000000</td>\n",
       "      <td>2.000000</td>\n",
       "      <td>236.000000</td>\n",
       "      <td>3.000000</td>\n",
       "      <td>8.000000</td>\n",
       "      <td>45.000000</td>\n",
       "      <td>13434.000000</td>\n",
       "      <td>23406.000000</td>\n",
       "      <td>0.000000</td>\n",
       "      <td>4358.347500</td>\n",
       "      <td>0.000000</td>\n",
       "      <td>35977.000000</td>\n",
       "    </tr>\n",
       "    <tr>\n",
       "      <th>50%</th>\n",
       "      <td>2014.000000</td>\n",
       "      <td>2.000000</td>\n",
       "      <td>3.000000</td>\n",
       "      <td>6.000000</td>\n",
       "      <td>6.000000</td>\n",
       "      <td>535.000000</td>\n",
       "      <td>4.000000</td>\n",
       "      <td>14.000000</td>\n",
       "      <td>102.000000</td>\n",
       "      <td>27013.000000</td>\n",
       "      <td>62504.500000</td>\n",
       "      <td>0.000000</td>\n",
       "      <td>11982.035000</td>\n",
       "      <td>1.000000</td>\n",
       "      <td>98033.000000</td>\n",
       "    </tr>\n",
       "    <tr>\n",
       "      <th>75%</th>\n",
       "      <td>2015.000000</td>\n",
       "      <td>4.000000</td>\n",
       "      <td>3.000000</td>\n",
       "      <td>13.000000</td>\n",
       "      <td>13.000000</td>\n",
       "      <td>790.000000</td>\n",
       "      <td>13.000000</td>\n",
       "      <td>21.000000</td>\n",
       "      <td>235.000000</td>\n",
       "      <td>40397.250000</td>\n",
       "      <td>93000.250000</td>\n",
       "      <td>2738.000000</td>\n",
       "      <td>12801.790000</td>\n",
       "      <td>1.000000</td>\n",
       "      <td>142138.250000</td>\n",
       "    </tr>\n",
       "    <tr>\n",
       "      <th>max</th>\n",
       "      <td>2016.000000</td>\n",
       "      <td>7.000000</td>\n",
       "      <td>6.000000</td>\n",
       "      <td>53.000000</td>\n",
       "      <td>53.000000</td>\n",
       "      <td>990.000000</td>\n",
       "      <td>73.000000</td>\n",
       "      <td>55.000000</td>\n",
       "      <td>1135.000000</td>\n",
       "      <td>53794.000000</td>\n",
       "      <td>515101.000000</td>\n",
       "      <td>227313.000000</td>\n",
       "      <td>21872.800000</td>\n",
       "      <td>1.000000</td>\n",
       "      <td>653498.000000</td>\n",
       "    </tr>\n",
       "  </tbody>\n",
       "</table>\n",
       "</div>"
      ],
      "text/plain": [
       "                Year            OGC             OG             DC  \\\n",
       "count  287836.000000  287836.000000  287836.000000  287836.000000   \n",
       "mean     2014.250104       2.976007       2.251824       9.134597   \n",
       "std         1.016282       1.575586       1.555445       9.662995   \n",
       "min      2013.000000       1.000000       0.000000       0.000000   \n",
       "25%      2013.000000       2.000000       1.000000       2.000000   \n",
       "50%      2014.000000       2.000000       3.000000       6.000000   \n",
       "75%      2015.000000       4.000000       3.000000      13.000000   \n",
       "max      2016.000000       7.000000       6.000000      53.000000   \n",
       "\n",
       "                Dept             UC          Union             JF  \\\n",
       "count  287836.000000  287836.000000  287836.000000  287836.000000   \n",
       "mean        9.132767     490.540186       8.745817      15.629956   \n",
       "std         9.661642     333.238723       9.234740      11.109899   \n",
       "min         0.000000       1.000000       0.000000       0.000000   \n",
       "25%         2.000000     236.000000       3.000000       8.000000   \n",
       "50%         6.000000     535.000000       4.000000      14.000000   \n",
       "75%        13.000000     790.000000      13.000000      21.000000   \n",
       "max        53.000000     990.000000      73.000000      55.000000   \n",
       "\n",
       "                 Job             EI       Salaries       Overtime  \\\n",
       "count  287836.000000  287836.000000  287836.000000  287836.000000   \n",
       "mean      170.518458   26913.060020   63262.713139    4401.037115   \n",
       "std       187.579398   15539.719696   44638.657748   11079.137749   \n",
       "min         0.000000       1.000000  -68771.000000  -12308.000000   \n",
       "25%        45.000000   13434.000000   23406.000000       0.000000   \n",
       "50%       102.000000   27013.000000   62504.500000       0.000000   \n",
       "75%       235.000000   40397.250000   93000.250000    2738.000000   \n",
       "max      1135.000000   53794.000000  515101.000000  227313.000000   \n",
       "\n",
       "                 H/D             YT  Total_Compensation  \n",
       "count  287836.000000  287836.000000       287836.000000  \n",
       "mean     8932.876472       0.500063        97990.329882  \n",
       "std      4894.072024       0.500001        67750.020573  \n",
       "min     -2940.470000       0.000000       -74082.000000  \n",
       "25%      4358.347500       0.000000        35977.000000  \n",
       "50%     11982.035000       1.000000        98033.000000  \n",
       "75%     12801.790000       1.000000       142138.250000  \n",
       "max     21872.800000       1.000000       653498.000000  "
      ]
     },
     "execution_count": 23,
     "metadata": {},
     "output_type": "execute_result"
    }
   ],
   "source": [
    "df.describe()"
   ]
  },
  {
   "cell_type": "code",
   "execution_count": 24,
   "id": "0e6c404c",
   "metadata": {},
   "outputs": [
    {
     "data": {
      "text/plain": [
       "Year                  0\n",
       "OGC                   0\n",
       "OG                    0\n",
       "DC                    0\n",
       "Dept                  0\n",
       "UC                    0\n",
       "Union                 0\n",
       "JF                    0\n",
       "Job                   0\n",
       "EI                    0\n",
       "Salaries              0\n",
       "Overtime              0\n",
       "H/D                   0\n",
       "YT                    0\n",
       "Total_Compensation    0\n",
       "dtype: int64"
      ]
     },
     "execution_count": 24,
     "metadata": {},
     "output_type": "execute_result"
    }
   ],
   "source": [
    "df.isnull().sum()"
   ]
  },
  {
   "cell_type": "code",
   "execution_count": 25,
   "id": "3990acdf",
   "metadata": {},
   "outputs": [],
   "source": [
    "df.drop(df[df['Union'].isnull()].index, inplace=True)"
   ]
  },
  {
   "cell_type": "code",
   "execution_count": 26,
   "id": "00d1bc25",
   "metadata": {},
   "outputs": [
    {
     "data": {
      "text/plain": [
       "Year                  0\n",
       "OGC                   0\n",
       "OG                    0\n",
       "DC                    0\n",
       "Dept                  0\n",
       "UC                    0\n",
       "Union                 0\n",
       "JF                    0\n",
       "Job                   0\n",
       "EI                    0\n",
       "Salaries              0\n",
       "Overtime              0\n",
       "H/D                   0\n",
       "YT                    0\n",
       "Total_Compensation    0\n",
       "dtype: int64"
      ]
     },
     "execution_count": 26,
     "metadata": {},
     "output_type": "execute_result"
    }
   ],
   "source": [
    "df.isnull().sum()"
   ]
  },
  {
   "cell_type": "code",
   "execution_count": 27,
   "id": "1970ece0",
   "metadata": {},
   "outputs": [],
   "source": [
    "df.drop(df[df['JF'].isnull()].index, inplace=True)"
   ]
  },
  {
   "cell_type": "code",
   "execution_count": 28,
   "id": "4d6371c2",
   "metadata": {},
   "outputs": [
    {
     "data": {
      "text/plain": [
       "Year                  0\n",
       "OGC                   0\n",
       "OG                    0\n",
       "DC                    0\n",
       "Dept                  0\n",
       "UC                    0\n",
       "Union                 0\n",
       "JF                    0\n",
       "Job                   0\n",
       "EI                    0\n",
       "Salaries              0\n",
       "Overtime              0\n",
       "H/D                   0\n",
       "YT                    0\n",
       "Total_Compensation    0\n",
       "dtype: int64"
      ]
     },
     "execution_count": 28,
     "metadata": {},
     "output_type": "execute_result"
    }
   ],
   "source": [
    "df.isnull().sum()"
   ]
  },
  {
   "cell_type": "code",
   "execution_count": 29,
   "id": "2163a1ad",
   "metadata": {},
   "outputs": [],
   "source": [
    "x = df.drop(['Total_Compensation'],axis=1)\n",
    "y = df['Total_Compensation']"
   ]
  },
  {
   "cell_type": "code",
   "execution_count": 30,
   "id": "858c97c3",
   "metadata": {},
   "outputs": [],
   "source": [
    "from sklearn.model_selection import train_test_split\n",
    "x_train, x_test, y_train, y_test = train_test_split(x,y,test_size=0.2,random_state=0)"
   ]
  },
  {
   "cell_type": "code",
   "execution_count": 31,
   "id": "f930a552",
   "metadata": {},
   "outputs": [
    {
     "data": {
      "text/plain": [
       "(230268, 14)"
      ]
     },
     "execution_count": 31,
     "metadata": {},
     "output_type": "execute_result"
    }
   ],
   "source": [
    "x_train.shape"
   ]
  },
  {
   "cell_type": "code",
   "execution_count": 32,
   "id": "a5039d1e",
   "metadata": {},
   "outputs": [
    {
     "data": {
      "text/plain": [
       "(57568, 14)"
      ]
     },
     "execution_count": 32,
     "metadata": {},
     "output_type": "execute_result"
    }
   ],
   "source": [
    "x_test.shape"
   ]
  },
  {
   "cell_type": "code",
   "execution_count": 33,
   "id": "f06cc583",
   "metadata": {},
   "outputs": [
    {
     "data": {
      "text/html": [
       "<style>#sk-container-id-1 {color: black;background-color: white;}#sk-container-id-1 pre{padding: 0;}#sk-container-id-1 div.sk-toggleable {background-color: white;}#sk-container-id-1 label.sk-toggleable__label {cursor: pointer;display: block;width: 100%;margin-bottom: 0;padding: 0.3em;box-sizing: border-box;text-align: center;}#sk-container-id-1 label.sk-toggleable__label-arrow:before {content: \"▸\";float: left;margin-right: 0.25em;color: #696969;}#sk-container-id-1 label.sk-toggleable__label-arrow:hover:before {color: black;}#sk-container-id-1 div.sk-estimator:hover label.sk-toggleable__label-arrow:before {color: black;}#sk-container-id-1 div.sk-toggleable__content {max-height: 0;max-width: 0;overflow: hidden;text-align: left;background-color: #f0f8ff;}#sk-container-id-1 div.sk-toggleable__content pre {margin: 0.2em;color: black;border-radius: 0.25em;background-color: #f0f8ff;}#sk-container-id-1 input.sk-toggleable__control:checked~div.sk-toggleable__content {max-height: 200px;max-width: 100%;overflow: auto;}#sk-container-id-1 input.sk-toggleable__control:checked~label.sk-toggleable__label-arrow:before {content: \"▾\";}#sk-container-id-1 div.sk-estimator input.sk-toggleable__control:checked~label.sk-toggleable__label {background-color: #d4ebff;}#sk-container-id-1 div.sk-label input.sk-toggleable__control:checked~label.sk-toggleable__label {background-color: #d4ebff;}#sk-container-id-1 input.sk-hidden--visually {border: 0;clip: rect(1px 1px 1px 1px);clip: rect(1px, 1px, 1px, 1px);height: 1px;margin: -1px;overflow: hidden;padding: 0;position: absolute;width: 1px;}#sk-container-id-1 div.sk-estimator {font-family: monospace;background-color: #f0f8ff;border: 1px dotted black;border-radius: 0.25em;box-sizing: border-box;margin-bottom: 0.5em;}#sk-container-id-1 div.sk-estimator:hover {background-color: #d4ebff;}#sk-container-id-1 div.sk-parallel-item::after {content: \"\";width: 100%;border-bottom: 1px solid gray;flex-grow: 1;}#sk-container-id-1 div.sk-label:hover label.sk-toggleable__label {background-color: #d4ebff;}#sk-container-id-1 div.sk-serial::before {content: \"\";position: absolute;border-left: 1px solid gray;box-sizing: border-box;top: 0;bottom: 0;left: 50%;z-index: 0;}#sk-container-id-1 div.sk-serial {display: flex;flex-direction: column;align-items: center;background-color: white;padding-right: 0.2em;padding-left: 0.2em;position: relative;}#sk-container-id-1 div.sk-item {position: relative;z-index: 1;}#sk-container-id-1 div.sk-parallel {display: flex;align-items: stretch;justify-content: center;background-color: white;position: relative;}#sk-container-id-1 div.sk-item::before, #sk-container-id-1 div.sk-parallel-item::before {content: \"\";position: absolute;border-left: 1px solid gray;box-sizing: border-box;top: 0;bottom: 0;left: 50%;z-index: -1;}#sk-container-id-1 div.sk-parallel-item {display: flex;flex-direction: column;z-index: 1;position: relative;background-color: white;}#sk-container-id-1 div.sk-parallel-item:first-child::after {align-self: flex-end;width: 50%;}#sk-container-id-1 div.sk-parallel-item:last-child::after {align-self: flex-start;width: 50%;}#sk-container-id-1 div.sk-parallel-item:only-child::after {width: 0;}#sk-container-id-1 div.sk-dashed-wrapped {border: 1px dashed gray;margin: 0 0.4em 0.5em 0.4em;box-sizing: border-box;padding-bottom: 0.4em;background-color: white;}#sk-container-id-1 div.sk-label label {font-family: monospace;font-weight: bold;display: inline-block;line-height: 1.2em;}#sk-container-id-1 div.sk-label-container {text-align: center;}#sk-container-id-1 div.sk-container {/* jupyter's `normalize.less` sets `[hidden] { display: none; }` but bootstrap.min.css set `[hidden] { display: none !important; }` so we also need the `!important` here to be able to override the default hidden behavior on the sphinx rendered scikit-learn.org. See: https://github.com/scikit-learn/scikit-learn/issues/21755 */display: inline-block !important;position: relative;}#sk-container-id-1 div.sk-text-repr-fallback {display: none;}</style><div id=\"sk-container-id-1\" class=\"sk-top-container\"><div class=\"sk-text-repr-fallback\"><pre>LinearRegression()</pre><b>In a Jupyter environment, please rerun this cell to show the HTML representation or trust the notebook. <br />On GitHub, the HTML representation is unable to render, please try loading this page with nbviewer.org.</b></div><div class=\"sk-container\" hidden><div class=\"sk-item\"><div class=\"sk-estimator sk-toggleable\"><input class=\"sk-toggleable__control sk-hidden--visually\" id=\"sk-estimator-id-1\" type=\"checkbox\" checked><label for=\"sk-estimator-id-1\" class=\"sk-toggleable__label sk-toggleable__label-arrow\">LinearRegression</label><div class=\"sk-toggleable__content\"><pre>LinearRegression()</pre></div></div></div></div></div>"
      ],
      "text/plain": [
       "LinearRegression()"
      ]
     },
     "execution_count": 33,
     "metadata": {},
     "output_type": "execute_result"
    }
   ],
   "source": [
    "from sklearn.linear_model import LinearRegression\n",
    "lr = LinearRegression()\n",
    "lr.fit(x_train, y_train)"
   ]
  },
  {
   "cell_type": "code",
   "execution_count": 34,
   "id": "ccc55cfb",
   "metadata": {},
   "outputs": [
    {
     "data": {
      "text/plain": [
       "array([173575.19487738, 170809.98751916, 127976.24090941, ...,\n",
       "       178272.48838875, 123827.78491759, 174656.60371947])"
      ]
     },
     "execution_count": 34,
     "metadata": {},
     "output_type": "execute_result"
    }
   ],
   "source": [
    "y_pred = lr.predict(x_train)\n",
    "y_pred"
   ]
  },
  {
   "cell_type": "code",
   "execution_count": 35,
   "id": "fdd20b90",
   "metadata": {},
   "outputs": [
    {
     "data": {
      "text/html": [
       "<style>#sk-container-id-2 {color: black;background-color: white;}#sk-container-id-2 pre{padding: 0;}#sk-container-id-2 div.sk-toggleable {background-color: white;}#sk-container-id-2 label.sk-toggleable__label {cursor: pointer;display: block;width: 100%;margin-bottom: 0;padding: 0.3em;box-sizing: border-box;text-align: center;}#sk-container-id-2 label.sk-toggleable__label-arrow:before {content: \"▸\";float: left;margin-right: 0.25em;color: #696969;}#sk-container-id-2 label.sk-toggleable__label-arrow:hover:before {color: black;}#sk-container-id-2 div.sk-estimator:hover label.sk-toggleable__label-arrow:before {color: black;}#sk-container-id-2 div.sk-toggleable__content {max-height: 0;max-width: 0;overflow: hidden;text-align: left;background-color: #f0f8ff;}#sk-container-id-2 div.sk-toggleable__content pre {margin: 0.2em;color: black;border-radius: 0.25em;background-color: #f0f8ff;}#sk-container-id-2 input.sk-toggleable__control:checked~div.sk-toggleable__content {max-height: 200px;max-width: 100%;overflow: auto;}#sk-container-id-2 input.sk-toggleable__control:checked~label.sk-toggleable__label-arrow:before {content: \"▾\";}#sk-container-id-2 div.sk-estimator input.sk-toggleable__control:checked~label.sk-toggleable__label {background-color: #d4ebff;}#sk-container-id-2 div.sk-label input.sk-toggleable__control:checked~label.sk-toggleable__label {background-color: #d4ebff;}#sk-container-id-2 input.sk-hidden--visually {border: 0;clip: rect(1px 1px 1px 1px);clip: rect(1px, 1px, 1px, 1px);height: 1px;margin: -1px;overflow: hidden;padding: 0;position: absolute;width: 1px;}#sk-container-id-2 div.sk-estimator {font-family: monospace;background-color: #f0f8ff;border: 1px dotted black;border-radius: 0.25em;box-sizing: border-box;margin-bottom: 0.5em;}#sk-container-id-2 div.sk-estimator:hover {background-color: #d4ebff;}#sk-container-id-2 div.sk-parallel-item::after {content: \"\";width: 100%;border-bottom: 1px solid gray;flex-grow: 1;}#sk-container-id-2 div.sk-label:hover label.sk-toggleable__label {background-color: #d4ebff;}#sk-container-id-2 div.sk-serial::before {content: \"\";position: absolute;border-left: 1px solid gray;box-sizing: border-box;top: 0;bottom: 0;left: 50%;z-index: 0;}#sk-container-id-2 div.sk-serial {display: flex;flex-direction: column;align-items: center;background-color: white;padding-right: 0.2em;padding-left: 0.2em;position: relative;}#sk-container-id-2 div.sk-item {position: relative;z-index: 1;}#sk-container-id-2 div.sk-parallel {display: flex;align-items: stretch;justify-content: center;background-color: white;position: relative;}#sk-container-id-2 div.sk-item::before, #sk-container-id-2 div.sk-parallel-item::before {content: \"\";position: absolute;border-left: 1px solid gray;box-sizing: border-box;top: 0;bottom: 0;left: 50%;z-index: -1;}#sk-container-id-2 div.sk-parallel-item {display: flex;flex-direction: column;z-index: 1;position: relative;background-color: white;}#sk-container-id-2 div.sk-parallel-item:first-child::after {align-self: flex-end;width: 50%;}#sk-container-id-2 div.sk-parallel-item:last-child::after {align-self: flex-start;width: 50%;}#sk-container-id-2 div.sk-parallel-item:only-child::after {width: 0;}#sk-container-id-2 div.sk-dashed-wrapped {border: 1px dashed gray;margin: 0 0.4em 0.5em 0.4em;box-sizing: border-box;padding-bottom: 0.4em;background-color: white;}#sk-container-id-2 div.sk-label label {font-family: monospace;font-weight: bold;display: inline-block;line-height: 1.2em;}#sk-container-id-2 div.sk-label-container {text-align: center;}#sk-container-id-2 div.sk-container {/* jupyter's `normalize.less` sets `[hidden] { display: none; }` but bootstrap.min.css set `[hidden] { display: none !important; }` so we also need the `!important` here to be able to override the default hidden behavior on the sphinx rendered scikit-learn.org. See: https://github.com/scikit-learn/scikit-learn/issues/21755 */display: inline-block !important;position: relative;}#sk-container-id-2 div.sk-text-repr-fallback {display: none;}</style><div id=\"sk-container-id-2\" class=\"sk-top-container\"><div class=\"sk-text-repr-fallback\"><pre>KNeighborsRegressor()</pre><b>In a Jupyter environment, please rerun this cell to show the HTML representation or trust the notebook. <br />On GitHub, the HTML representation is unable to render, please try loading this page with nbviewer.org.</b></div><div class=\"sk-container\" hidden><div class=\"sk-item\"><div class=\"sk-estimator sk-toggleable\"><input class=\"sk-toggleable__control sk-hidden--visually\" id=\"sk-estimator-id-2\" type=\"checkbox\" checked><label for=\"sk-estimator-id-2\" class=\"sk-toggleable__label sk-toggleable__label-arrow\">KNeighborsRegressor</label><div class=\"sk-toggleable__content\"><pre>KNeighborsRegressor()</pre></div></div></div></div></div>"
      ],
      "text/plain": [
       "KNeighborsRegressor()"
      ]
     },
     "execution_count": 35,
     "metadata": {},
     "output_type": "execute_result"
    }
   ],
   "source": [
    "from sklearn.neighbors import KNeighborsRegressor\n",
    "knr = KNeighborsRegressor()\n",
    "knr.fit(x_train, y_train)"
   ]
  },
  {
   "cell_type": "code",
   "execution_count": 36,
   "id": "99bcb3ee",
   "metadata": {},
   "outputs": [
    {
     "data": {
      "text/plain": [
       "array([107509.8,   1745.4, 206927.6, ...,  37497.2, 139819.2, 120606.6])"
      ]
     },
     "execution_count": 36,
     "metadata": {},
     "output_type": "execute_result"
    }
   ],
   "source": [
    "kn_pred = knr.predict(x_test)\n",
    "kn_pred"
   ]
  },
  {
   "cell_type": "code",
   "execution_count": 37,
   "id": "8695417a",
   "metadata": {},
   "outputs": [
    {
     "data": {
      "text/plain": [
       "0.9873628357092867"
      ]
     },
     "execution_count": 37,
     "metadata": {},
     "output_type": "execute_result"
    }
   ],
   "source": [
    "from sklearn.metrics import r2_score\n",
    "r2_score(y_train, y_pred)"
   ]
  },
  {
   "cell_type": "code",
   "execution_count": 38,
   "id": "bfafb823",
   "metadata": {},
   "outputs": [
    {
     "data": {
      "text/plain": [
       "0.987694597791172"
      ]
     },
     "execution_count": 38,
     "metadata": {},
     "output_type": "execute_result"
    }
   ],
   "source": [
    "r2_score(y_test, kn_pred)"
   ]
  },
  {
   "cell_type": "code",
   "execution_count": 42,
   "id": "acefc852",
   "metadata": {},
   "outputs": [
    {
     "name": "stderr",
     "output_type": "stream",
     "text": [
      "C:\\ProgramData\\anaconda3\\lib\\site-packages\\sklearn\\base.py:420: UserWarning: X does not have valid feature names, but LinearRegression was fitted with feature names\n",
      "  warnings.warn(\n"
     ]
    },
    {
     "ename": "ValueError",
     "evalue": "X has 1 features, but LinearRegression is expecting 14 features as input.",
     "output_type": "error",
     "traceback": [
      "\u001b[1;31m---------------------------------------------------------------------------\u001b[0m",
      "\u001b[1;31mValueError\u001b[0m                                Traceback (most recent call last)",
      "Cell \u001b[1;32mIn[42], line 5\u001b[0m\n\u001b[0;32m      3\u001b[0m convert_to_array \u001b[38;5;241m=\u001b[39m np\u001b[38;5;241m.\u001b[39masarray(input_data)\n\u001b[0;32m      4\u001b[0m re_shape \u001b[38;5;241m=\u001b[39m convert_to_array\u001b[38;5;241m.\u001b[39mreshape(\u001b[38;5;241m-\u001b[39m\u001b[38;5;241m1\u001b[39m,\u001b[38;5;241m1\u001b[39m)\n\u001b[1;32m----> 5\u001b[0m prediction \u001b[38;5;241m=\u001b[39m \u001b[43mlr\u001b[49m\u001b[38;5;241;43m.\u001b[39;49m\u001b[43mpredict\u001b[49m\u001b[43m(\u001b[49m\u001b[43mre_shape\u001b[49m\u001b[43m)\u001b[49m\n\u001b[0;32m      6\u001b[0m \u001b[38;5;28mprint\u001b[39m(prediction)\n",
      "File \u001b[1;32mC:\\ProgramData\\anaconda3\\lib\\site-packages\\sklearn\\linear_model\\_base.py:354\u001b[0m, in \u001b[0;36mLinearModel.predict\u001b[1;34m(self, X)\u001b[0m\n\u001b[0;32m    340\u001b[0m \u001b[38;5;28;01mdef\u001b[39;00m \u001b[38;5;21mpredict\u001b[39m(\u001b[38;5;28mself\u001b[39m, X):\n\u001b[0;32m    341\u001b[0m     \u001b[38;5;124;03m\"\"\"\u001b[39;00m\n\u001b[0;32m    342\u001b[0m \u001b[38;5;124;03m    Predict using the linear model.\u001b[39;00m\n\u001b[0;32m    343\u001b[0m \n\u001b[1;32m   (...)\u001b[0m\n\u001b[0;32m    352\u001b[0m \u001b[38;5;124;03m        Returns predicted values.\u001b[39;00m\n\u001b[0;32m    353\u001b[0m \u001b[38;5;124;03m    \"\"\"\u001b[39;00m\n\u001b[1;32m--> 354\u001b[0m     \u001b[38;5;28;01mreturn\u001b[39;00m \u001b[38;5;28;43mself\u001b[39;49m\u001b[38;5;241;43m.\u001b[39;49m\u001b[43m_decision_function\u001b[49m\u001b[43m(\u001b[49m\u001b[43mX\u001b[49m\u001b[43m)\u001b[49m\n",
      "File \u001b[1;32mC:\\ProgramData\\anaconda3\\lib\\site-packages\\sklearn\\linear_model\\_base.py:337\u001b[0m, in \u001b[0;36mLinearModel._decision_function\u001b[1;34m(self, X)\u001b[0m\n\u001b[0;32m    334\u001b[0m \u001b[38;5;28;01mdef\u001b[39;00m \u001b[38;5;21m_decision_function\u001b[39m(\u001b[38;5;28mself\u001b[39m, X):\n\u001b[0;32m    335\u001b[0m     check_is_fitted(\u001b[38;5;28mself\u001b[39m)\n\u001b[1;32m--> 337\u001b[0m     X \u001b[38;5;241m=\u001b[39m \u001b[38;5;28;43mself\u001b[39;49m\u001b[38;5;241;43m.\u001b[39;49m\u001b[43m_validate_data\u001b[49m\u001b[43m(\u001b[49m\u001b[43mX\u001b[49m\u001b[43m,\u001b[49m\u001b[43m \u001b[49m\u001b[43maccept_sparse\u001b[49m\u001b[38;5;241;43m=\u001b[39;49m\u001b[43m[\u001b[49m\u001b[38;5;124;43m\"\u001b[39;49m\u001b[38;5;124;43mcsr\u001b[39;49m\u001b[38;5;124;43m\"\u001b[39;49m\u001b[43m,\u001b[49m\u001b[43m \u001b[49m\u001b[38;5;124;43m\"\u001b[39;49m\u001b[38;5;124;43mcsc\u001b[39;49m\u001b[38;5;124;43m\"\u001b[39;49m\u001b[43m,\u001b[49m\u001b[43m \u001b[49m\u001b[38;5;124;43m\"\u001b[39;49m\u001b[38;5;124;43mcoo\u001b[39;49m\u001b[38;5;124;43m\"\u001b[39;49m\u001b[43m]\u001b[49m\u001b[43m,\u001b[49m\u001b[43m \u001b[49m\u001b[43mreset\u001b[49m\u001b[38;5;241;43m=\u001b[39;49m\u001b[38;5;28;43;01mFalse\u001b[39;49;00m\u001b[43m)\u001b[49m\n\u001b[0;32m    338\u001b[0m     \u001b[38;5;28;01mreturn\u001b[39;00m safe_sparse_dot(X, \u001b[38;5;28mself\u001b[39m\u001b[38;5;241m.\u001b[39mcoef_\u001b[38;5;241m.\u001b[39mT, dense_output\u001b[38;5;241m=\u001b[39m\u001b[38;5;28;01mTrue\u001b[39;00m) \u001b[38;5;241m+\u001b[39m \u001b[38;5;28mself\u001b[39m\u001b[38;5;241m.\u001b[39mintercept_\n",
      "File \u001b[1;32mC:\\ProgramData\\anaconda3\\lib\\site-packages\\sklearn\\base.py:569\u001b[0m, in \u001b[0;36mBaseEstimator._validate_data\u001b[1;34m(self, X, y, reset, validate_separately, **check_params)\u001b[0m\n\u001b[0;32m    566\u001b[0m     out \u001b[38;5;241m=\u001b[39m X, y\n\u001b[0;32m    568\u001b[0m \u001b[38;5;28;01mif\u001b[39;00m \u001b[38;5;129;01mnot\u001b[39;00m no_val_X \u001b[38;5;129;01mand\u001b[39;00m check_params\u001b[38;5;241m.\u001b[39mget(\u001b[38;5;124m\"\u001b[39m\u001b[38;5;124mensure_2d\u001b[39m\u001b[38;5;124m\"\u001b[39m, \u001b[38;5;28;01mTrue\u001b[39;00m):\n\u001b[1;32m--> 569\u001b[0m     \u001b[38;5;28;43mself\u001b[39;49m\u001b[38;5;241;43m.\u001b[39;49m\u001b[43m_check_n_features\u001b[49m\u001b[43m(\u001b[49m\u001b[43mX\u001b[49m\u001b[43m,\u001b[49m\u001b[43m \u001b[49m\u001b[43mreset\u001b[49m\u001b[38;5;241;43m=\u001b[39;49m\u001b[43mreset\u001b[49m\u001b[43m)\u001b[49m\n\u001b[0;32m    571\u001b[0m \u001b[38;5;28;01mreturn\u001b[39;00m out\n",
      "File \u001b[1;32mC:\\ProgramData\\anaconda3\\lib\\site-packages\\sklearn\\base.py:370\u001b[0m, in \u001b[0;36mBaseEstimator._check_n_features\u001b[1;34m(self, X, reset)\u001b[0m\n\u001b[0;32m    367\u001b[0m     \u001b[38;5;28;01mreturn\u001b[39;00m\n\u001b[0;32m    369\u001b[0m \u001b[38;5;28;01mif\u001b[39;00m n_features \u001b[38;5;241m!=\u001b[39m \u001b[38;5;28mself\u001b[39m\u001b[38;5;241m.\u001b[39mn_features_in_:\n\u001b[1;32m--> 370\u001b[0m     \u001b[38;5;28;01mraise\u001b[39;00m \u001b[38;5;167;01mValueError\u001b[39;00m(\n\u001b[0;32m    371\u001b[0m         \u001b[38;5;124mf\u001b[39m\u001b[38;5;124m\"\u001b[39m\u001b[38;5;124mX has \u001b[39m\u001b[38;5;132;01m{\u001b[39;00mn_features\u001b[38;5;132;01m}\u001b[39;00m\u001b[38;5;124m features, but \u001b[39m\u001b[38;5;132;01m{\u001b[39;00m\u001b[38;5;28mself\u001b[39m\u001b[38;5;241m.\u001b[39m\u001b[38;5;18m__class__\u001b[39m\u001b[38;5;241m.\u001b[39m\u001b[38;5;18m__name__\u001b[39m\u001b[38;5;132;01m}\u001b[39;00m\u001b[38;5;124m \u001b[39m\u001b[38;5;124m\"\u001b[39m\n\u001b[0;32m    372\u001b[0m         \u001b[38;5;124mf\u001b[39m\u001b[38;5;124m\"\u001b[39m\u001b[38;5;124mis expecting \u001b[39m\u001b[38;5;132;01m{\u001b[39;00m\u001b[38;5;28mself\u001b[39m\u001b[38;5;241m.\u001b[39mn_features_in_\u001b[38;5;132;01m}\u001b[39;00m\u001b[38;5;124m features as input.\u001b[39m\u001b[38;5;124m\"\u001b[39m\n\u001b[0;32m    373\u001b[0m     )\n",
      "\u001b[1;31mValueError\u001b[0m: X has 1 features, but LinearRegression is expecting 14 features as input."
     ]
    }
   ],
   "source": [
    "import numpy as np\n",
    "input_data = (1,2,3,4,5,6,7,8,9,10,11,12,13,14)\n",
    "convert_to_array = np.asarray(input_data)\n",
    "re_shape = convert_to_array.reshape(-1,1)\n",
    "prediction = lr.predict(re_shape)\n",
    "print(prediction)"
   ]
  },
  {
   "cell_type": "code",
   "execution_count": null,
   "id": "7c8c5089",
   "metadata": {},
   "outputs": [],
   "source": []
  }
 ],
 "metadata": {
  "kernelspec": {
   "display_name": "Python 3 (ipykernel)",
   "language": "python",
   "name": "python3"
  },
  "language_info": {
   "codemirror_mode": {
    "name": "ipython",
    "version": 3
   },
   "file_extension": ".py",
   "mimetype": "text/x-python",
   "name": "python",
   "nbconvert_exporter": "python",
   "pygments_lexer": "ipython3",
   "version": "3.10.9"
  }
 },
 "nbformat": 4,
 "nbformat_minor": 5
}
